{
 "cells": [
  {
   "cell_type": "code",
   "execution_count": null,
   "id": "2fd8f4b1",
   "metadata": {},
   "outputs": [],
   "source": [
    "import pandas as pd\n",
    "\n",
    "data = pd.read_csv('fifa21_train.csv')"
   ]
  },
  {
   "cell_type": "code",
   "execution_count": null,
   "id": "f0113b31",
   "metadata": {},
   "outputs": [],
   "source": [
    "pd.set_option(\"display.max_columns\", None)"
   ]
  },
  {
   "cell_type": "code",
   "execution_count": null,
   "id": "dbeec7cc",
   "metadata": {
    "scrolled": true
   },
   "outputs": [],
   "source": [
    "data"
   ]
  },
  {
   "cell_type": "code",
   "execution_count": null,
   "id": "55db60a6",
   "metadata": {},
   "outputs": [],
   "source": [
    "import numpy as np\n",
    "categoricals = data.select_dtypes(include=[object])\n",
    "numericals = data.select_dtypes(include=[np.number])"
   ]
  },
  {
   "cell_type": "code",
   "execution_count": null,
   "id": "13eb3199",
   "metadata": {},
   "outputs": [],
   "source": [
    "categoricals.head() "
   ]
  },
  {
   "cell_type": "code",
   "execution_count": null,
   "id": "e3765271",
   "metadata": {},
   "outputs": [],
   "source": [
    "categoricals.dtypes"
   ]
  },
  {
   "cell_type": "code",
   "execution_count": null,
   "id": "41b1b908",
   "metadata": {},
   "outputs": [],
   "source": [
    "numericals.dtypes"
   ]
  },
  {
   "cell_type": "code",
   "execution_count": null,
   "id": "3ab983cf",
   "metadata": {},
   "outputs": [],
   "source": [
    "# Delete 3 columns from the dataframe: ID, Loan Date End and Contract\n",
    "data = data.drop([\"ID\", \"Loan Date End\", \"Contract\"], axis=1)"
   ]
  },
  {
   "cell_type": "code",
   "execution_count": null,
   "id": "ec68ac78",
   "metadata": {},
   "outputs": [],
   "source": [
    "cols = []\n",
    "for i in data.columns:\n",
    "    cols.append(i.lower())\n",
    "    \n",
    "data.columns = cols\n",
    "data.columns = data.columns.str.replace(\" \", \"_\")"
   ]
  },
  {
   "cell_type": "code",
   "execution_count": null,
   "id": "56238ced",
   "metadata": {},
   "outputs": [],
   "source": [
    "# Delete some columns from the dataframe\n",
    "data = data.drop([\"joined\",\"attacking\", \"movement\", \"power\", \"mentality\", \"defending\", \"goalkeeping\", \"skill\", \"team_&_contract\", \"club\", \"nationality\"], axis=1)"
   ]
  },
  {
   "cell_type": "code",
   "execution_count": null,
   "id": "a7c53624",
   "metadata": {},
   "outputs": [],
   "source": [
    "# Delete NaN values in the dataframe\n",
    "\n",
    "data1 = pd.DataFrame(round(data.isna().sum()/len(data),4)*100)"
   ]
  },
  {
   "cell_type": "code",
   "execution_count": null,
   "id": "65fe786e",
   "metadata": {
    "scrolled": true
   },
   "outputs": [],
   "source": [
    "data1.columns=[\"percentage\"]\n",
    "data1 = data1[data1[\"percentage\"]>0]\n",
    "data1"
   ]
  },
  {
   "cell_type": "code",
   "execution_count": null,
   "id": "d9421af7",
   "metadata": {},
   "outputs": [],
   "source": [
    "# Delete position column from the dataframe because is dificult to transform for our predicted model\n",
    "data = data.drop([\"position\"], axis=1)\n",
    "data[\"composure\"] = data[\"composure\"].fillna(data[\"composure\"].mean())"
   ]
  },
  {
   "cell_type": "code",
   "execution_count": null,
   "id": "22006f2f",
   "metadata": {
    "scrolled": true
   },
   "outputs": [],
   "source": [
    "data1 = pd.DataFrame(round(data.isna().sum()/len(data),4)*100)\n",
    "data1.columns=[\"percentage\"]\n",
    "data1 = data1[data1[\"percentage\"]>0]\n",
    "data1"
   ]
  },
  {
   "cell_type": "code",
   "execution_count": null,
   "id": "77740669",
   "metadata": {
    "scrolled": true
   },
   "outputs": [],
   "source": [
    "# Filling NaN values with mean. \n",
    "cols = [\"volleys\",\"curve\", \"agility\", \"balance\", \"jumping\", \"interceptions\", \"positioning\", \"vision\", \"sliding_tackle\"]\n",
    "for i in cols:\n",
    "    data[i]= data[i].fillna(data[i].mean())\n",
    "\n",
    "data"
   ]
  },
  {
   "cell_type": "code",
   "execution_count": null,
   "id": "82fe809a",
   "metadata": {},
   "outputs": [],
   "source": [
    "data1 = pd.DataFrame(round(data.isna().sum()/len(data),4)*100)\n",
    "data1.columns=[\"percentage\"]\n",
    "data1 = data1[data1[\"percentage\"]>0]\n",
    "data1"
   ]
  },
  {
   "cell_type": "code",
   "execution_count": null,
   "id": "a2424270",
   "metadata": {
    "scrolled": true
   },
   "outputs": [],
   "source": [
    "# Filling NaN values with mode for a/w and d/w. \n",
    "\n",
    "data[\"a/w\"]= data[\"a/w\"].fillna(data[\"a/w\"].mode()[0])\n",
    "data[\"d/w\"]= data[\"d/w\"].fillna(data[\"d/w\"].mode()[0])"
   ]
  },
  {
   "cell_type": "code",
   "execution_count": null,
   "id": "e8f9b170",
   "metadata": {},
   "outputs": [],
   "source": [
    "data1 = pd.DataFrame(round(data.isna().sum()/len(data),4)*100)\n",
    "data1.columns=[\"percentage\"]\n",
    "data1 = data1[data1[\"percentage\"]>0]\n",
    "data1"
   ]
  },
  {
   "cell_type": "code",
   "execution_count": null,
   "id": "decc4645",
   "metadata": {},
   "outputs": [],
   "source": [
    "# Delete the € from value, wage and release clause columns\n",
    "columns = [\"value\", \"wage\", \"release_clause\"]\n",
    "for column in columns:\n",
    "    data[column]= data[column].str.replace(\"€\", \"\")\n",
    "    \n"
   ]
  },
  {
   "cell_type": "code",
   "execution_count": null,
   "id": "2775a1fe",
   "metadata": {},
   "outputs": [],
   "source": [
    "numericals"
   ]
  },
  {
   "cell_type": "code",
   "execution_count": null,
   "id": "22dcad33",
   "metadata": {},
   "outputs": [],
   "source": [
    "data"
   ]
  },
  {
   "cell_type": "code",
   "execution_count": null,
   "id": "84fee633",
   "metadata": {
    "scrolled": true
   },
   "outputs": [],
   "source": [
    "# Delete the \"K\" and \"M\" from value, wage and release clause and converted the numbers into thousands and millions\n",
    "def convert_value(value_str):\n",
    "    multiplier = 1\n",
    "    if value_str.endswith(\"K\"):\n",
    "        multiplier = 10**3\n",
    "        value_str = value_str[:-1]\n",
    "    elif value_str.endswith(\"M\"):\n",
    "        multiplier = 10**6\n",
    "        value_str = value_str[:-1]\n",
    "    return float(value_str) * multiplier\n",
    "\n",
    "columns = [\"value\", \"wage\", \"release_clause\"]\n",
    "\n",
    "for column in columns:\n",
    "    data[column] = data[column].apply(convert_value)\n",
    "    \n",
    "data['value'] = pd.to_numeric(data['value'], errors='coerce').convert_dtypes()\n",
    "data['wage'] = pd.to_numeric(data['wage'], errors='coerce').convert_dtypes()\n",
    "data['release_clause'] = pd.to_numeric(data['release_clause'], errors='coerce').convert_dtypes()"
   ]
  },
  {
   "cell_type": "code",
   "execution_count": null,
   "id": "06adf38d",
   "metadata": {
    "scrolled": true
   },
   "outputs": [],
   "source": [
    "data"
   ]
  },
  {
   "cell_type": "code",
   "execution_count": null,
   "id": "df873021",
   "metadata": {},
   "outputs": [],
   "source": [
    "# Delete the ★ from w/f, sm and ir\n",
    "columns = [\"w/f\", \"sm\", \"ir\"]\n",
    "for column in columns:\n",
    "    data[column]= data[column].str.replace(\"★\", \"\")\n",
    "\n",
    "data['w/f'] = pd.to_numeric(data['w/f'], errors='coerce').convert_dtypes()\n",
    "data['sm'] = pd.to_numeric(data['sm'], errors='coerce').convert_dtypes()\n",
    "data['ir'] = pd.to_numeric(data['ir'], errors='coerce').convert_dtypes()"
   ]
  },
  {
   "cell_type": "code",
   "execution_count": null,
   "id": "434eabf2",
   "metadata": {
    "scrolled": true
   },
   "outputs": [],
   "source": [
    "data"
   ]
  },
  {
   "cell_type": "code",
   "execution_count": null,
   "id": "e308e327",
   "metadata": {},
   "outputs": [],
   "source": [
    "# Deleting + signs and everything after that\n",
    "data[\"ls\"]= data[\"ls\"].apply(lambda x: x.split(\"+\")[0])\n"
   ]
  },
  {
   "cell_type": "code",
   "execution_count": null,
   "id": "a7bf6ab2",
   "metadata": {},
   "outputs": [],
   "source": [
    "columns = [\"st\",\"rs\",\"lw\",\"lf\",\"cf\", \"rf\", \"rw\", \"lam\", \"cam\",\"ram\",\"lm\",\"lcm\",\"cm\",\"rcm\", \"rm\",\"lwb\", \"ldm\",\"cdm\",\"rdm\",\"rwb\",\"lb\",\"lcb\",\"cb\",\"rcb\",\"rb\",\"gk\"]\n",
    "\n",
    "for column in columns:\n",
    "    data[column]= data[column].apply(lambda x: x.split(\"+\")[0])\n",
    "    data[column]= pd.to_numeric(data[column],errors=\"coerce\")"
   ]
  },
  {
   "cell_type": "code",
   "execution_count": null,
   "id": "13abe988",
   "metadata": {},
   "outputs": [],
   "source": [
    "data"
   ]
  },
  {
   "cell_type": "code",
   "execution_count": null,
   "id": "27fe1526",
   "metadata": {},
   "outputs": [],
   "source": [
    "# Converting height column to \"cm\"\n",
    "height_cm = pd.DataFrame(data['height'])\n",
    "height_cm[['height','h_inch']] = height_cm['height'].str.split(\"'\",expand=True)\n",
    "height_cm.columns = ['h_feet','h_inch']\n",
    "height_cm['h_inch'] = height_cm['h_inch'].str.replace('\"','')\n",
    "height_cm['h_feet'] = pd.to_numeric(height_cm['h_feet'], errors='coerce').convert_dtypes()\n",
    "height_cm['h_inch'] = pd.to_numeric(height_cm['h_inch'], errors='coerce').convert_dtypes()\n",
    "height_cm['height'] = height_cm['h_feet'] * 30.48 + height_cm['h_inch'] * 2.54\n",
    "data['height'] = height_cm['height']\n",
    "data.head() "
   ]
  },
  {
   "cell_type": "code",
   "execution_count": null,
   "id": "286e6569",
   "metadata": {
    "scrolled": true
   },
   "outputs": [],
   "source": [
    "# Converting the weight from lbs to \"kg\"\n",
    "data['weight'] = data['weight'].str.replace('lbs','')\n",
    "data['weight'] = pd.to_numeric(data['weight'], errors='coerce').convert_dtypes()\n",
    "data['weight'] = data['weight'] * 0.45\n",
    "data.head()"
   ]
  },
  {
   "cell_type": "code",
   "execution_count": null,
   "id": "2f1c589a",
   "metadata": {},
   "outputs": [],
   "source": [
    "# Converting the K from the hits columns to thousand and converting to numeric\n",
    "def convert_value(value_str):\n",
    "    multiplier = 1\n",
    "    if value_str.endswith(\"K\"):\n",
    "        multiplier = 10**3\n",
    "        value_str = value_str[:-1]\n",
    "    return float(value_str) * multiplier\n",
    "data[\"hits\"] = data[\"hits\"].apply(convert_value)"
   ]
  },
  {
   "cell_type": "code",
   "execution_count": null,
   "id": "c5447c82",
   "metadata": {},
   "outputs": [],
   "source": [
    "data['hits'] = pd.to_numeric(data['hits'], errors='coerce').convert_dtypes()\n",
    "data['hits']"
   ]
  },
  {
   "cell_type": "code",
   "execution_count": null,
   "id": "d6dabe47",
   "metadata": {},
   "outputs": [],
   "source": [
    "data.to_csv(\"fifa21_train_clean.csv\", index = False)"
   ]
  },
  {
   "cell_type": "code",
   "execution_count": null,
   "id": "bd605660",
   "metadata": {},
   "outputs": [],
   "source": [
    "data = pd.read_csv('fifa21_train_clean.csv')"
   ]
  },
  {
   "cell_type": "code",
   "execution_count": null,
   "id": "16949185",
   "metadata": {},
   "outputs": [],
   "source": [
    "pd.set_option('display.max_rows', None)"
   ]
  },
  {
   "cell_type": "code",
   "execution_count": null,
   "id": "ea9c9f86",
   "metadata": {},
   "outputs": [],
   "source": [
    "import seaborn as sns \n",
    "import matplotlib.pyplot as plt\n",
    "correlations_matrix = data.corr()\n",
    "sns.heatmap(correlations_matrix, annot=True)\n",
    "plt.show()"
   ]
  },
  {
   "cell_type": "code",
   "execution_count": null,
   "id": "d458bf13",
   "metadata": {},
   "outputs": [],
   "source": []
  }
 ],
 "metadata": {
  "kernelspec": {
   "display_name": "Python 3 (ipykernel)",
   "language": "python",
   "name": "python3"
  },
  "language_info": {
   "codemirror_mode": {
    "name": "ipython",
    "version": 3
   },
   "file_extension": ".py",
   "mimetype": "text/x-python",
   "name": "python",
   "nbconvert_exporter": "python",
   "pygments_lexer": "ipython3",
   "version": "3.10.9"
  }
 },
 "nbformat": 4,
 "nbformat_minor": 5
}
